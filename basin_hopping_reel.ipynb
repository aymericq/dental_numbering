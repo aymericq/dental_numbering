{
 "cells": [
  {
   "cell_type": "code",
   "execution_count": 1,
   "metadata": {},
   "outputs": [],
   "source": [
    "import numpy as np\n",
    "import matplotlib.pyplot as plt\n",
    "from scipy.optimize import basinhopping\n",
    "import skimage\n",
    "import IPython.display as disp\n",
    "from math import floor"
   ]
  },
  {
   "cell_type": "code",
   "execution_count": 5,
   "metadata": {},
   "outputs": [],
   "source": [
    "# DATASET_PATH = \"/home/quesneay/mohit/final/dataset_cat/separated/mask/\"\n",
    "DATASET_PATH = \"/home/aymeric/OMA/projet_rech/dataset/mask/\""
   ]
  },
  {
   "cell_type": "code",
   "execution_count": 6,
   "metadata": {},
   "outputs": [],
   "source": [
    "def display_progress(i, maxi, length):\n",
    "    disp.display('[' + \"\".join(\n",
    "        ['=' for j in range(floor(length*i/maxi))]\n",
    "    ) + '>' + \"\".join(\n",
    "        [' ' for j in range(floor(length*i/maxi)+1, length)]\n",
    "    ) + ']', str(floor(length*i/maxi)), '%')\n",
    "    disp.clear_output(wait=True)"
   ]
  },
  {
   "cell_type": "code",
   "execution_count": 4,
   "metadata": {},
   "outputs": [
    {
     "ename": "FileNotFoundError",
     "evalue": "[Errno 2] No such file or directory: '/home/quesneay/mohit/final/dataset_cat/separated/mask/'",
     "output_type": "error",
     "traceback": [
      "\u001b[0;31m---------------------------------------------------------------------------\u001b[0m",
      "\u001b[0;31mFileNotFoundError\u001b[0m                         Traceback (most recent call last)",
      "\u001b[0;32m<ipython-input-4-508810c52c30>\u001b[0m in \u001b[0;36m<module>\u001b[0;34m\u001b[0m\n\u001b[1;32m      1\u001b[0m \u001b[0;32mfrom\u001b[0m \u001b[0mos\u001b[0m \u001b[0;32mimport\u001b[0m \u001b[0mlistdir\u001b[0m\u001b[0;34m\u001b[0m\u001b[0m\n\u001b[1;32m      2\u001b[0m \u001b[0;34m\u001b[0m\u001b[0m\n\u001b[0;32m----> 3\u001b[0;31m \u001b[0mfile_list\u001b[0m \u001b[0;34m=\u001b[0m \u001b[0mlistdir\u001b[0m\u001b[0;34m(\u001b[0m\u001b[0mDATASET_PATH\u001b[0m\u001b[0;34m)\u001b[0m\u001b[0;34m\u001b[0m\u001b[0m\n\u001b[0m\u001b[1;32m      4\u001b[0m \u001b[0mCoMs\u001b[0m \u001b[0;34m=\u001b[0m \u001b[0;34m{\u001b[0m\u001b[0;34m}\u001b[0m\u001b[0;34m\u001b[0m\u001b[0m\n",
      "\u001b[0;31mFileNotFoundError\u001b[0m: [Errno 2] No such file or directory: '/home/quesneay/mohit/final/dataset_cat/separated/mask/'"
     ]
    }
   ],
   "source": [
    "from os import listdir\n",
    "\n",
    "file_list = listdir(DATASET_PATH)\n",
    "CoMs = {}"
   ]
  },
  {
   "cell_type": "code",
   "execution_count": 5,
   "metadata": {},
   "outputs": [],
   "source": [
    "from skimage.measure import find_contours\n",
    "\n",
    "def find_centers_of_mass(img, thresh=5000):\n",
    "    contours = find_contours(img, level=0.5)\n",
    "    centers_of_mass = []\n",
    "    for i, contour in enumerate(contours):\n",
    "        int_contour = np.ceil(contour).astype('uint16')\n",
    "        mat = np.zeros(eroded_image.shape)\n",
    "        mat[int_contour[:,0], int_contour[:,1]] = 1\n",
    "        bin_holes = binary_fill_holes(mat)\n",
    "        m = moments(bin_holes)\n",
    "        if m[0,0] > thresh:\n",
    "            x = int(m[0,1]/m[0,0])\n",
    "            y = int(m[1,0]/m[0,0])\n",
    "            centers_of_mass.append((x, y))\n",
    "    return centers_of_mass"
   ]
  },
  {
   "cell_type": "code",
   "execution_count": 6,
   "metadata": {},
   "outputs": [
    {
     "name": "stdout",
     "output_type": "stream",
     "text": [
      "Loaded centers of mass from file.\n"
     ]
    }
   ],
   "source": [
    "from json import dumps, load\n",
    "from pathlib import Path\n",
    "\n",
    "if Path(\"centers_of_mass.json\").exists():\n",
    "    with open(\"centers_of_mass.json\", 'r') as coms_fd:\n",
    "        CoMs = load(coms_fd)\n",
    "        print('Loaded centers of mass from file.')\n",
    "else:\n",
    "    for i, file in enumerate(file_list):\n",
    "        img = plt.imread(DATASET_PATH + '/' + file)[:,:,0]\n",
    "        CoMs[file] = find_centers_of_mass(img)\n",
    "        display_progress(i, len(file_list), 50)\n",
    "    with open(\"centers_of_mass.json\", 'w') as fd:\n",
    "        fd.write(dumps(CoMs))"
   ]
  },
  {
   "cell_type": "code",
   "execution_count": 7,
   "metadata": {},
   "outputs": [
    {
     "data": {
      "text/plain": [
       "<matplotlib.collections.PathCollection at 0x7f09a5d257b8>"
      ]
     },
     "execution_count": 7,
     "metadata": {},
     "output_type": "execute_result"
    },
    {
     "data": {
      "image/png": "[encoded data removed]",
      "text/plain": [
       "<Figure size 1440x1440 with 1 Axes>"
      ]
     },
     "metadata": {
      "needs_background": "light"
     },
     "output_type": "display_data"
    }
   ],
   "source": [
    "plt.figure(figsize=(20,20))\n",
    "n_file = 275\n",
    "file = file_list[n_file]\n",
    "img = plt.imread(DATASET_PATH + '/' + file)\n",
    "plt.imshow(img)\n",
    "centers = np.array(CoMs[file])\n",
    "plt.scatter(centers[:,0], centers[:,1], marker='x', color='red')"
   ]
  },
  {
   "cell_type": "code",
   "execution_count": 8,
   "metadata": {},
   "outputs": [
    {
     "data": {
      "text/plain": [
       "276"
      ]
     },
     "execution_count": 8,
     "metadata": {},
     "output_type": "execute_result"
    }
   ],
   "source": [
    "len(CoMs)"
   ]
  },
  {
   "cell_type": "code",
   "execution_count": 9,
   "metadata": {},
   "outputs": [
    {
     "data": {
      "text/plain": [
       "191"
      ]
     },
     "execution_count": 9,
     "metadata": {},
     "output_type": "execute_result"
    }
   ],
   "source": [
    "len(list(filter(lambda x: len(x) == 32, CoMs.values())))"
   ]
  },
  {
   "cell_type": "code",
   "execution_count": 39,
   "metadata": {},
   "outputs": [],
   "source": [
    "def sort_dentier(dentier):\n",
    "    # sorts un dentier by finding the nearest neighbor\n",
    "    N = len(dentier)\n",
    "    indices = []\n",
    "    dist = np.sum(np.abs(dentier),axis=1)\n",
    "    indices.append(np.argmax(dist))\n",
    "    for i in range(N//2-1):\n",
    "        s = np.inf\n",
    "        mini = 0\n",
    "        for j in range(N):\n",
    "            norm = np.linalg.norm(dentier[indices[-1]] - dentier[j])\n",
    "            if norm < s and (j not in indices):\n",
    "                mini = j\n",
    "                s = norm\n",
    "        indices.append(mini)\n",
    "    dist = np.sum(np.abs(dentier),axis=1)\n",
    "    indices.append(np.argmin(dist))\n",
    "    for i in range(N//2+1, N):\n",
    "        s = np.inf\n",
    "        mini = 0\n",
    "        for j in range(N):\n",
    "            norm = np.linalg.norm(dentier[indices[-1]] - dentier[j])\n",
    "            if norm < s and (j not in indices):\n",
    "                mini = j\n",
    "                s = norm\n",
    "        indices.append(mini)\n",
    "    return indices"
   ]
  },
  {
   "cell_type": "code",
   "execution_count": 40,
   "metadata": {},
   "outputs": [],
   "source": [
    "sorted_centers = sort_dentier(centers)\n",
    "lower_teeth = centers[sorted_centers[:14]]\n",
    "upper_teeth = centers[sorted_centers[14:]]"
   ]
  },
  {
   "cell_type": "code",
   "execution_count": 51,
   "metadata": {},
   "outputs": [
    {
     "data": {
      "image/png": "[encoded data removed]",
      "text/plain": [
       "<Figure size 432x288 with 1 Axes>"
      ]
     },
     "metadata": {
      "needs_background": "light"
     },
     "output_type": "display_data"
    }
   ],
   "source": [
    "from numpy.polynomial.polynomial import Polynomial\n",
    "plt.imshow(img)\n",
    "plt.scatter(centers[:,0], centers[:,1], marker='x', color='red')\n",
    "xx = np.linspace(0, img.shape[1])\n",
    "upper_pol = Polynomial.fit(upper_teeth[:,0], upper_teeth[:,1], [0, 1, 2])\n",
    "yy = upper_pol(xx)\n",
    "plt.plot(xx, yy)\n",
    "lower_pol = Polynomial.fit(lower_teeth[:,0], lower_teeth[:,1], [0, 1, 2])\n",
    "yy = lower_pol(xx)\n",
    "plt.plot(xx, yy)\n",
    "plt.gca().set_ylim(img.shape[0], 0);"
   ]
  },
  {
   "cell_type": "code",
   "execution_count": 69,
   "metadata": {},
   "outputs": [],
   "source": [
    "lower_min = -lower_pol.convert().coef[1]/2/lower_pol.convert().coef[2]\n",
    "upper_min = -upper_pol.convert().coef[1]/2/upper_pol.convert().coef[2]\n",
    "x_mean = (lower_min + upper_min)/2\n",
    "y_gap = upper_min - lower_min"
   ]
  },
  {
   "cell_type": "code",
   "execution_count": 71,
   "metadata": {},
   "outputs": [
    {
     "data": {
      "text/plain": [
       "30"
      ]
     },
     "execution_count": 71,
     "metadata": {},
     "output_type": "execute_result"
    }
   ],
   "source": [
    "len(centers)"
   ]
  },
  {
   "cell_type": "code",
   "execution_count": 67,
   "metadata": {},
   "outputs": [
    {
     "data": {
      "text/plain": [
       "array([ 4.28542575e+02,  7.22051243e-01, -3.55121773e-04])"
      ]
     },
     "execution_count": 67,
     "metadata": {},
     "output_type": "execute_result"
    }
   ],
   "source": [
    "lower_pol.convert().coef"
   ]
  },
  {
   "cell_type": "code",
   "execution_count": 106,
   "metadata": {},
   "outputs": [],
   "source": [
    "from numpy.polynomial.polynomial import Polynomial\n",
    "\n",
    "def transform_quad(centers, gap = 1, x_scale = 1):\n",
    "    # Unfit because some x-rays display no curvature so fitting a quadratic\n",
    "    # is ill-conditioned\n",
    "    assert len(centers) == 32\n",
    "    sorted_centers = sort_dentier(centers)\n",
    "    lower_teeth = centers[sorted_centers[:16]]\n",
    "    upper_teeth = centers[sorted_centers[16:]]\n",
    "    upper_pol = Polynomial.fit(upper_teeth[:,0], upper_teeth[:,1], [0, 2])\n",
    "    lower_pol = Polynomial.fit(lower_teeth[:,0], lower_teeth[:,1], [0, 2])\n",
    "    lower_min = -lower_pol.convert().coef[1]/2/lower_pol.convert().coef[2]\n",
    "    upper_min = -upper_pol.convert().coef[1]/2/upper_pol.convert().coef[2]\n",
    "    x_mean = (lower_min + upper_min)/2\n",
    "    y_lower_mean = lower_pol(x_mean)\n",
    "    y_gap = upper_min - lower_min\n",
    "    centers = centers - (x_mean, y_lower_mean)\n",
    "    \n",
    "    centers[:,1] /= y_gap\n",
    "    # Normalize horizontally by the order coefficient of the polynomial\n",
    "    centers[:,0] /= np.sqrt(np.abs(lower_pol.convert().coef[2]))\n",
    "    \n",
    "    return centers, (x_mean, y_lower_mean)"
   ]
  },
  {
   "cell_type": "code",
   "execution_count": 47,
   "metadata": {},
   "outputs": [],
   "source": [
    "_32_teeth = []\n",
    "not_32_teeth = []\n",
    "for key in CoMs.keys():\n",
    "    if len(CoMs[key]) == 32:\n",
    "        _32_teeth.append(key)\n",
    "    else:\n",
    "        not_32_teeth.append(key)"
   ]
  },
  {
   "cell_type": "code",
   "execution_count": 123,
   "metadata": {},
   "outputs": [
    {
     "data": {
      "text/plain": [
       "<matplotlib.collections.PathCollection at 0x7f824ffcb898>"
      ]
     },
     "execution_count": 123,
     "metadata": {},
     "output_type": "execute_result"
    },
    {
     "data": {
      "image/png": "[encoded data removed]",
      "text/plain": [
       "<Figure size 432x288 with 1 Axes>"
      ]
     },
     "metadata": {
      "needs_background": "light"
     },
     "output_type": "display_data"
    }
   ],
   "source": [
    "tooth_index = 1\n",
    "centers = np.array(CoMs[_32_teeth[tooth_index]])\n",
    "img = plt.imread(DATASET_PATH + '/' + _32_teeth[tooth_index])\n",
    "transf_centers, shift = transform(centers)\n",
    "transf_centers += shift\n",
    "plt.scatter(transf_centers[:,0],transf_centers[:,1])"
   ]
  },
  {
   "cell_type": "code",
   "execution_count": 124,
   "metadata": {},
   "outputs": [
    {
     "data": {
      "text/plain": [
       "<matplotlib.collections.PathCollection at 0x7f824ffc3ef0>"
      ]
     },
     "execution_count": 124,
     "metadata": {},
     "output_type": "execute_result"
    },
    {
     "data": {
      "image/png": "[encoded data removed]",
      "text/plain": [
       "<Figure size 432x288 with 1 Axes>"
      ]
     },
     "metadata": {
      "needs_background": "light"
     },
     "output_type": "display_data"
    }
   ],
   "source": [
    "plt.scatter(centers[:,0],centers[:,1])"
   ]
  },
  {
   "cell_type": "code",
   "execution_count": 125,
   "metadata": {},
   "outputs": [
    {
     "data": {
      "text/plain": [
       "<matplotlib.image.AxesImage at 0x7f824ff93ef0>"
      ]
     },
     "execution_count": 125,
     "metadata": {},
     "output_type": "execute_result"
    },
    {
     "data": {
      "image/png": "[encoded data removed]",
      "text/plain": [
       "<Figure size 432x288 with 1 Axes>"
      ]
     },
     "metadata": {
      "needs_background": "light"
     },
     "output_type": "display_data"
    }
   ],
   "source": [
    "plt.imshow(img)"
   ]
  },
  {
   "cell_type": "markdown",
   "metadata": {},
   "source": [
    "---\n",
    "## Robust"
   ]
  },
  {
   "cell_type": "code",
   "execution_count": 17,
   "metadata": {},
   "outputs": [],
   "source": [
    "from scipy.stats import trim_mean, iqr\n",
    "def transform_robust(centers):\n",
    "    centers = centers.astype('float64')\n",
    "    x_mean = trim_mean(centers[:,0], 0.2)\n",
    "    x_iqr = iqr(centers[:,0])\n",
    "    centers[:,0] -= x_mean\n",
    "    centers[:,0] /= x_iqr\n",
    "    y_max = np.max(centers[:,1])\n",
    "    y_min = np.min(centers[:,1])\n",
    "    centers[:,1] -= y_min\n",
    "    centers[:,1] /= (y_max - y_min)\n",
    "    return centers, (x_mean, y_min), (x_iqr, (y_max - y_min))"
   ]
  },
  {
   "cell_type": "code",
   "execution_count": 31,
   "metadata": {},
   "outputs": [],
   "source": [
    "tooth_index = 2\n",
    "centers = np.array(CoMs[_32_teeth[tooth_index]])\n",
    "img = plt.imread(DATASET_PATH + '/' + _32_teeth[tooth_index])"
   ]
  },
  {
   "cell_type": "code",
   "execution_count": 32,
   "metadata": {},
   "outputs": [],
   "source": [
    "rob_centers, shift, scale = transform_robust(centers)"
   ]
  },
  {
   "cell_type": "code",
   "execution_count": 33,
   "metadata": {},
   "outputs": [
    {
     "data": {
      "text/plain": [
       "<matplotlib.collections.PathCollection at 0x7f09a5280e80>"
      ]
     },
     "execution_count": 33,
     "metadata": {},
     "output_type": "execute_result"
    },
    {
     "data": {
      "image/png": "[encoded data removed]",
      "text/plain": [
       "<Figure size 432x288 with 1 Axes>"
      ]
     },
     "metadata": {
      "needs_background": "light"
     },
     "output_type": "display_data"
    }
   ],
   "source": [
    "plt.scatter(rob_centers[:,0], rob_centers[:,1])"
   ]
  },
  {
   "cell_type": "code",
   "execution_count": 34,
   "metadata": {},
   "outputs": [
    {
     "data": {
      "text/plain": [
       "<matplotlib.image.AxesImage at 0x7f09a52a3668>"
      ]
     },
     "execution_count": 34,
     "metadata": {},
     "output_type": "execute_result"
    },
    {
     "data": {
      "image/png": "[encoded data removed]",
      "text/plain": [
       "<Figure size 432x288 with 1 Axes>"
      ]
     },
     "metadata": {
      "needs_background": "light"
     },
     "output_type": "display_data"
    }
   ],
   "source": [
    "plt.imshow(img)"
   ]
  },
  {
   "cell_type": "code",
   "execution_count": 45,
   "metadata": {},
   "outputs": [],
   "source": [
    "transformed_centers = []\n",
    "mean = np.zeros((32,2))\n",
    "for file in _32_teeth:\n",
    "    centers = np.array(CoMs[file])\n",
    "    sorted_centers = centers[sort_dentier(centers)]\n",
    "    rob_centers, shift, scale = transform_robust(sorted_centers)\n",
    "    transformed_centers.append(rob_centers)\n",
    "    mean += rob_centers\n",
    "mean /= len(_32_teeth)"
   ]
  },
  {
   "cell_type": "code",
   "execution_count": 46,
   "metadata": {},
   "outputs": [
    {
     "data": {
      "text/plain": [
       "<matplotlib.collections.PathCollection at 0x7f09a51c6898>"
      ]
     },
     "execution_count": 46,
     "metadata": {},
     "output_type": "execute_result"
    },
    {
     "data": {
      "image/png": "[encoded data removed]",
      "text/plain": [
       "<Figure size 432x288 with 1 Axes>"
      ]
     },
     "metadata": {
      "needs_background": "light"
     },
     "output_type": "display_data"
    }
   ],
   "source": [
    "plt.scatter(mean[:,0], mean[:,1])"
   ]
  },
  {
   "cell_type": "code",
   "execution_count": 50,
   "metadata": {},
   "outputs": [],
   "source": [
    "tooth_ind = 0\n",
    "img = plt.imread(DATASET_PATH + '/' + not_32_teeth[tooth_ind])\n",
    "transf, _, _ = transform_robust(np.array(CoMs[not_32_teeth[tooth_ind]]))"
   ]
  },
  {
   "cell_type": "code",
   "execution_count": 54,
   "metadata": {},
   "outputs": [
    {
     "data": {
      "text/plain": [
       "(1.2, -0.2)"
      ]
     },
     "execution_count": 54,
     "metadata": {},
     "output_type": "execute_result"
    },
    {
     "data": {
      "image/png": "[encoded data removed]",
      "text/plain": [
       "<Figure size 432x288 with 1 Axes>"
      ]
     },
     "metadata": {
      "needs_background": "light"
     },
     "output_type": "display_data"
    }
   ],
   "source": [
    "plt.scatter(transf[:,0], transf[:,1])\n",
    "plt.scatter(mean[:,0], mean[:,1], marker='x')\n",
    "plt.gca().set_ylim(1.2, -0.2)"
   ]
  },
  {
   "cell_type": "code",
   "execution_count": 53,
   "metadata": {},
   "outputs": [
    {
     "data": {
      "text/plain": [
       "<matplotlib.image.AxesImage at 0x7f09a4e35cf8>"
      ]
     },
     "execution_count": 53,
     "metadata": {},
     "output_type": "execute_result"
    },
    {
     "data": {
      "image/png": "[encoded data removed]",
      "text/plain": [
       "<Figure size 432x288 with 1 Axes>"
      ]
     },
     "metadata": {
      "needs_background": "light"
     },
     "output_type": "display_data"
    }
   ],
   "source": [
    "plt.imshow(img)"
   ]
  },
  {
   "cell_type": "code",
   "execution_count": null,
   "metadata": {},
   "outputs": [],
   "source": []
  }
 ],
 "metadata": {
  "kernelspec": {
   "display_name": "dental_numbering",
   "language": "python",
   "name": "dental_numbering"
  },
  "language_info": {
   "codemirror_mode": {
    "name": "ipython",
    "version": 3
   },
   "file_extension": ".py",
   "mimetype": "text/x-python",
   "name": "python",
   "nbconvert_exporter": "python",
   "pygments_lexer": "ipython3",
   "version": "3.5.2"
  }
 },
 "nbformat": 4,
 "nbformat_minor": 4
}
