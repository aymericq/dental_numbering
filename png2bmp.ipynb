{
 "cells": [
  {
   "cell_type": "code",
   "execution_count": 3,
   "metadata": {},
   "outputs": [],
   "source": [
    "from PIL import Image\n",
    "from os import listdir\n",
    "\n",
    "DATASET_PATH = \"/home/aymeric/OMA/projet_rech/dataset/mask/\"\n",
    "DATASET_COPY_PATH = \"/home/aymeric/OMA/projet_rech/dataset/mask_bmp/\""
   ]
  },
  {
   "cell_type": "code",
   "execution_count": 4,
   "metadata": {},
   "outputs": [],
   "source": [
    "for file in listdir(DATASET_PATH):\n",
    "    file_prefix = file[:-3]\n",
    "    im = Image.open(DATASET_PATH+'/'+file)\n",
    "    rgb_im = im.convert('RGB')\n",
    "    rgb_im.save(DATASET_COPY_PATH+'/'+file_prefix+'bmp')"
   ]
  }
 ],
 "metadata": {
  "kernelspec": {
   "display_name": "dental_numbering",
   "language": "python",
   "name": "dental_numbering"
  },
  "language_info": {
   "codemirror_mode": {
    "name": "ipython",
    "version": 3
   },
   "file_extension": ".py",
   "mimetype": "text/x-python",
   "name": "python",
   "nbconvert_exporter": "python",
   "pygments_lexer": "ipython3",
   "version": "3.5.2"
  }
 },
 "nbformat": 4,
 "nbformat_minor": 2
}
